{
 "cells": [
  {
   "cell_type": "code",
   "execution_count": 2,
   "id": "f03b1d4f",
   "metadata": {},
   "outputs": [],
   "source": [
    "from sklearn.inspection import permutation_importance\n",
    "import time \n",
    "\n",
    "from Script import *\n",
    "\n",
    "df_train = pd.read_csv(\"Data/train.csv\")\n",
    "df_test  = pd.read_csv(\"Data/test.csv\")\n",
    "\n",
    "df_train = df_train.drop(\"i\", axis=1)\n",
    "y = df_train.pop(\"y\")\n",
    "df_train.insert(54,\"y\", y)\n",
    "df_test = df_test.drop([\"y\", \"i\"], axis = 1)\n",
    "\n",
    "\n",
    "df_train, df_test = preprocess_data(df_train, df_test, verbose=False)\n",
    "\n",
    "\n",
    "X = df_train.iloc[:, 0:-1]\n",
    "y = df_train.iloc[:, -1]\n"
   ]
  },
  {
   "cell_type": "code",
   "execution_count": 11,
   "id": "00e7d17c",
   "metadata": {},
   "outputs": [
    {
     "name": "stdout",
     "output_type": "stream",
     "text": [
      "Fitting Classifiers\n"
     ]
    }
   ],
   "source": [
    "\n",
    "import joblib\n",
    "from sklearn.ensemble import BaggingClassifier\n",
    "from sklearn.ensemble import GradientBoostingClassifier\n",
    "from sklearn.model_selection import cross_val_score\n",
    "\n",
    "\n",
    "rf_grid_search = joblib.load(\"Temp/rf_grid_search.joblib\")\n",
    "\n",
    "clf1 = rf_grid_search.best_estimator_\n",
    "\n",
    "\n",
    "\n",
    "clf2 = GradientBoostingClassifier(n_estimators=100, learning_rate=1.0,\n",
    "    max_depth=1, random_state=0)\n",
    "\n",
    "print(\"Fitting Classifiers\")\n",
    "eclf1 = VotingClassifier(estimators=[\n",
    "        ('rf', clf1), ('xgb', clf2)], voting='hard')\n",
    "\n",
    "\n",
    "clf = BaggingClassifier(base_estimator=eclf1,\n",
    "                        n_estimators=10, random_state=0)"
   ]
  },
  {
   "cell_type": "code",
   "execution_count": 12,
   "id": "ff437f93",
   "metadata": {},
   "outputs": [
    {
     "data": {
      "text/plain": [
       "BaggingClassifier(base_estimator=VotingClassifier(estimators=[('rf',\n",
       "                                                               RandomForestClassifier(max_depth=60,\n",
       "                                                                                      max_features='sqrt',\n",
       "                                                                                      min_samples_leaf=5,\n",
       "                                                                                      min_samples_split=6,\n",
       "                                                                                      n_estimators=1900)),\n",
       "                                                              ('xgb',\n",
       "                                                               GradientBoostingClassifier(learning_rate=1.0,\n",
       "                                                                                          max_depth=1,\n",
       "                                                                                          random_state=0))]),\n",
       "                  random_state=0)"
      ]
     },
     "execution_count": 12,
     "metadata": {},
     "output_type": "execute_result"
    }
   ],
   "source": [
    "clf"
   ]
  },
  {
   "cell_type": "code",
   "execution_count": 20,
   "id": "db01ade4",
   "metadata": {},
   "outputs": [
    {
     "name": "stdout",
     "output_type": "stream",
     "text": [
      "Hard Voting \n",
      "aux stop\n",
      "hard voting 0.6877572016460904\n"
     ]
    }
   ],
   "source": [
    "\n",
    "\n",
    "\n",
    "\n",
    "\n",
    "\n",
    "\n",
    "print(\"Hard Voting \")\n",
    "hard_scores = cross_val_score(clf, X, y, cv=3) #try 3 better\n",
    "clf.fit(X,y)\n",
    "\n",
    "print(\"aux stop\")\n",
    "\n",
    "\n",
    "\n",
    "# name_of_model = \"bagging_rf_best+xgboost_correct_types\"\n",
    "\n",
    "# joblib.dump(hard_scores, \"Temp/\"+name_of_model+\"_hard_scores\"+\".joblib\")\n",
    "\n",
    "\n",
    "print(\"hard voting\", hard_scores.mean())\n",
    "\n",
    "\n",
    "# joblib.dump(eclf1, \"Temp/\"+name_of_model+\".joblib\")\n",
    "\n",
    "\n"
   ]
  },
  {
   "cell_type": "code",
   "execution_count": 21,
   "id": "ca938420",
   "metadata": {},
   "outputs": [
    {
     "name": "stdout",
     "output_type": "stream",
     "text": [
      "0.7155349794238683\n"
     ]
    }
   ],
   "source": [
    "score_training = clf.score(X,y)\n",
    "print(score_training)\n",
    "name_of_model = \"bagging_rf_best+xgboost_correct_types\""
   ]
  },
  {
   "cell_type": "code",
   "execution_count": 22,
   "id": "2dadd29b",
   "metadata": {},
   "outputs": [],
   "source": [
    "\n",
    "\n",
    "preds_hard = clf.predict(df_test)\n",
    "save_predictions(preds_hard, \"Predictions/\"+name_of_model+\"_hard\")"
   ]
  },
  {
   "cell_type": "code",
   "execution_count": null,
   "id": "8a1b638a",
   "metadata": {},
   "outputs": [],
   "source": [
    "name_of_model = \"bagging_rf_best+xgboost_correct_types\"\n",
    "joblib.dump(hard_scores, \"Temp/\"+name_of_model+\"_hard_scores\"+\".joblib\")\n",
    "joblib.dump(eclf1, \"Temp/\"+name_of_model+\".joblib\")"
   ]
  }
 ],
 "metadata": {
  "kernelspec": {
   "display_name": "Python [conda env:TFgpu]",
   "language": "python",
   "name": "conda-env-TFgpu-py"
  },
  "language_info": {
   "codemirror_mode": {
    "name": "ipython",
    "version": 3
   },
   "file_extension": ".py",
   "mimetype": "text/x-python",
   "name": "python",
   "nbconvert_exporter": "python",
   "pygments_lexer": "ipython3",
   "version": "3.9.7"
  }
 },
 "nbformat": 4,
 "nbformat_minor": 5
}
