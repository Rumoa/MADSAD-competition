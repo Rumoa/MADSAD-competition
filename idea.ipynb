{
 "cells": [
  {
   "cell_type": "code",
   "execution_count": 10,
   "metadata": {},
   "outputs": [
    {
     "name": "stdout",
     "output_type": "stream",
     "text": [
      "Column  x1 NAs:  0\n",
      "Column  x2 NAs:  0\n",
      "Column  x3 NAs:  0\n",
      "Column  x4 NAs:  0\n",
      "Column  x5 NAs:  0\n",
      "Column  x6 NAs:  0\n",
      "Column  x7 NAs:  0\n",
      "Column  x8 NAs:  0\n",
      "Column  x9 NAs:  0\n",
      "Column  x10 NAs:  0\n",
      "Column  x11 NAs:  0\n",
      "Column  x12 NAs:  0\n",
      "Column  x13 NAs:  0\n",
      "Column  x14 NAs:  0\n",
      "Column  x15 NAs:  0\n",
      "Column  x16 NAs:  0\n",
      "Column  x17 NAs:  0\n",
      "Column  x18 NAs:  0\n",
      "Column  x19 NAs:  0\n",
      "Column  x20 NAs:  0\n",
      "Column  x21 NAs:  0\n",
      "Column  x22 NAs:  0\n",
      "Column  x23 NAs:  0\n",
      "Column  x24 NAs:  0\n",
      "Column  x25 NAs:  0\n",
      "Column  x26 NAs:  0\n",
      "Column  x27 NAs:  0\n",
      "Column  x28 NAs:  0\n",
      "Column  x29 NAs:  0\n",
      "Column  x30 NAs:  0\n",
      "Column  x31 NAs:  0\n",
      "Column  x32 NAs:  0\n",
      "Column  x33 NAs:  0\n",
      "Column  x34 NAs:  0\n",
      "Column  x35 NAs:  0\n",
      "Column  x36 NAs:  0\n",
      "Column  x37 NAs:  0\n",
      "Column  x38 NAs:  0\n",
      "Column  x39 NAs:  0\n",
      "Column  x40 NAs:  0\n",
      "Column  c1 NAs:  0\n",
      "Column  c2 NAs:  0\n",
      "Column  c3 NAs:  0\n",
      "Column  c4 NAs:  0\n",
      "Column  c5 NAs:  0\n",
      "Column  c6 NAs:  0\n",
      "Column  c7 NAs:  0\n",
      "Column  c8 NAs:  0\n",
      "Column  c9 NAs:  0\n",
      "Column  c10 NAs:  0\n",
      "Column  c11 NAs:  0\n",
      "Column  c12 NAs:  0\n",
      "Column  o1 NAs:  0\n",
      "Column  o2 NAs:  0\n",
      "Column  y NAs:  0\n"
     ]
    }
   ],
   "source": [
    "import pprint\n",
    "from Script import *\n",
    "df_train = pd.read_csv(\"Data/train.csv\")\n",
    "df_test  = pd.read_csv(\"Data/test.csv\")\n",
    "\n",
    "df_train = df_train.drop(\"i\", axis=1)\n",
    "y = df_train.pop(\"y\")\n",
    "df_train.insert(54,\"y\", y)\n",
    "df_test = df_test.drop([\"y\", \"i\"], axis = 1)\n",
    "\n",
    "\n",
    "df_train, df_test = preprocess_data(df_train, df_test)\n",
    "\n",
    "col_x = list(df_train.filter(like='x', axis=1).columns)\n",
    "col_c = list(df_train.filter(like='c', axis=1).columns)\n",
    "col_o = list(df_train.filter(like='o', axis=1).columns)\n",
    "\n",
    "X_old = df_train.iloc[:, 0:-1]\n",
    "y = df_train.iloc[:, -1]\n"
   ]
  },
  {
   "cell_type": "code",
   "execution_count": 11,
   "metadata": {},
   "outputs": [],
   "source": [
    "df_train[\"c1\"] = df_train[\"o1\"].astype(\"float64\")\n",
    "df_train[\"c2\"] = df_train[\"o2\"].astype(\"float64\")\n",
    "\n",
    "df_test[\"c1\"] = df_test[\"o1\"].astype(\"float64\")\n",
    "df_test[\"c2\"] = df_test[\"o2\"].astype(\"float64\")\n",
    "\n",
    "X_new= df_train.iloc[:, 0:-1]\n",
    "y = df_train.iloc[:, -1]"
   ]
  },
  {
   "cell_type": "code",
   "execution_count": 15,
   "metadata": {},
   "outputs": [
    {
     "name": "stdout",
     "output_type": "stream",
     "text": [
      "Hard Voting \n",
      "aux stop\n",
      "0.67728682534834\n",
      "0.6699167626119034\n"
     ]
    }
   ],
   "source": [
    "\n",
    "from sklearn.linear_model import LogisticRegression\n",
    "from sklearn.naive_bayes import GaussianNB\n",
    "from sklearn.ensemble import RandomForestClassifier, VotingClassifier\n",
    "from sklearn.model_selection import cross_val_score\n",
    "from sklearn.svm import SVC\n",
    "\n",
    "\n",
    "from sklearn.ensemble import GradientBoostingClassifier\n",
    "\n",
    "clf1 = RandomForestClassifier()\n",
    "\n",
    "\n",
    "\n",
    "\n",
    "\n",
    "\n",
    "\n",
    "print(\"Hard Voting \")\n",
    "sc_old = cross_val_score(clf1, X_old, y, cv=10)\n",
    "\n",
    "sc_new = cross_val_score(clf1, X_new, y, cv=10)\n",
    "\n",
    "print(\"aux stop\")\n",
    "\n",
    "print(sc_old.mean())\n",
    "print(sc_new.mean())\n",
    "\n",
    "# import joblib\n",
    "# name_of_model = \"rf_best+xgboost\"\n",
    "\n",
    "# joblib.dump(hard_scores, \"Temp/\"+name_of_model+\"_hard_scores\"+\".joblib\")\n",
    "\n",
    "\n",
    "# print(\"hard voting\", hard_scores.mean())\n",
    "\n",
    "\n",
    "# print(\"aux stop\")\n",
    "\n",
    "# # joblib.dump(eclf1, \"Temp/\"+name_of_model+\".joblib\")\n",
    "\n",
    "# eclf1.fit(X, y)\n",
    "\n",
    "# preds_hard = eclf1.predict(df_test)\n",
    "# save_predictions(preds_hard, \"Predictions/\"+name_of_model+\"_hard\")\n"
   ]
  },
  {
   "cell_type": "code",
   "execution_count": null,
   "metadata": {},
   "outputs": [],
   "source": []
  }
 ],
 "metadata": {
  "interpreter": {
   "hash": "8e11f771aa81ca7c54d36d3a0f5c5121193ab3df27c10335e034f223aac86bc0"
  },
  "kernelspec": {
   "display_name": "Python 3.9.7 64-bit ('TFgpu': conda)",
   "language": "python",
   "name": "python3"
  },
  "language_info": {
   "codemirror_mode": {
    "name": "ipython",
    "version": 3
   },
   "file_extension": ".py",
   "mimetype": "text/x-python",
   "name": "python",
   "nbconvert_exporter": "python",
   "pygments_lexer": "ipython3",
   "version": "3.9.7"
  },
  "orig_nbformat": 4
 },
 "nbformat": 4,
 "nbformat_minor": 2
}
