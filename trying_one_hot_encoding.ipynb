{
 "cells": [
  {
   "cell_type": "code",
   "execution_count": 16,
   "id": "7893ad58",
   "metadata": {},
   "outputs": [
    {
     "name": "stdout",
     "output_type": "stream",
     "text": [
      "Column:  x1 NAs:  0\n",
      "Column:  x2 NAs:  0\n",
      "Column:  x3 NAs:  4\n",
      "Column:  x4 NAs:  8\n",
      "Column:  x5 NAs:  4\n",
      "Column:  x6 NAs:  8\n",
      "Column:  x7 NAs:  3\n",
      "Column:  x8 NAs:  2\n",
      "Column:  x9 NAs:  92\n",
      "Column:  x10 NAs:  104\n",
      "Column:  x11 NAs:  1\n",
      "Column:  x12 NAs:  3\n",
      "Column:  x13 NAs:  2163\n",
      "Column:  x14 NAs:  2151\n",
      "Column:  x15 NAs:  1056\n",
      "Column:  x16 NAs:  1066\n",
      "Column:  x17 NAs:  1633\n",
      "Column:  x18 NAs:  1643\n",
      "Column:  x19 NAs:  1\n",
      "Column:  x20 NAs:  0\n",
      "Column:  x21 NAs:  390\n",
      "Column:  x22 NAs:  378\n",
      "Column:  x23 NAs:  422\n",
      "Column:  x24 NAs:  413\n",
      "Column:  x25 NAs:  0\n",
      "Column:  x26 NAs:  0\n",
      "Column:  x27 NAs:  0\n",
      "Column:  x28 NAs:  0\n",
      "Column:  x29 NAs:  0\n",
      "Column:  x30 NAs:  0\n",
      "Column:  x31 NAs:  0\n",
      "Column:  x32 NAs:  0\n",
      "Column:  x33 NAs:  0\n",
      "Column:  x34 NAs:  0\n",
      "Column:  x35 NAs:  0\n",
      "Column:  x36 NAs:  0\n",
      "Column:  x37 NAs:  25\n",
      "Column:  x38 NAs:  0\n",
      "Column:  x39 NAs:  0\n",
      "Column:  x40 NAs:  0\n",
      "Column:  c1 NAs:  0\n",
      "Column:  c2 NAs:  0\n",
      "Column:  c3 NAs:  0\n",
      "Column:  c4 NAs:  0\n",
      "Column:  c5 NAs:  0\n",
      "Column:  c6 NAs:  0\n",
      "Column:  c7 NAs:  0\n",
      "Column:  c8 NAs:  0\n",
      "Column:  c9 NAs:  0\n",
      "Column:  c10 NAs:  0\n",
      "Column:  c11 NAs:  0\n",
      "Column:  c12 NAs:  0\n",
      "Column:  o1 NAs:  0\n",
      "Column:  o2 NAs:  0\n",
      "Column:  y NAs:  0\n",
      "-----------------------------------\n",
      "0    3753\n",
      "1    2079\n",
      "Name: y, dtype: int64\n",
      "Percentage of minority class:  0.35648148148148145\n"
     ]
    },
    {
     "data": {
      "image/png": "[encoded data removed]",
      "text/plain": [
       "<Figure size 864x576 with 2 Axes>"
      ]
     },
     "metadata": {
      "needs_background": "light"
     },
     "output_type": "display_data"
    }
   ],
   "source": [
    "from sklearn.inspection import permutation_importance\n",
    "import time \n",
    "\n",
    "from Script import *\n",
    "\n",
    "df_train = pd.read_csv(\"Data/train.csv\")\n",
    "df_test  = pd.read_csv(\"Data/test.csv\")\n",
    "\n",
    "df_train = df_train.drop(\"i\", axis=1)\n",
    "y = df_train.pop(\"y\")\n",
    "df_train.insert(54,\"y\", y)\n",
    "df_test = df_test.drop([\"y\", \"i\"], axis = 1)\n",
    "\n",
    "#Changing variable data types\n",
    "df_test.loc[:, \"c1\":\"c12\"] = df_test.loc[:, \"c1\":\"c12\"].astype(\"category\")\n",
    "df_test.loc[:, [\"o1\", \"o2\"]] = df_test.loc[:, [\"o1\", \"o2\"]].astype(\"category\")\n",
    "df_train.loc[:, \"c1\":\"c12\"] = df_train.loc[:, \"c1\":\"c12\"].astype(\"category\")\n",
    "df_train.loc[:, [\"o1\", \"o2\", \"y\"]] = df_train.loc[:, [\"o1\", \"o2\", \"y\"]].astype(\"category\")\n",
    "\n",
    "#Call relevant methods until we have results\n",
    "analyze_dataset(df_train, df_test)\n",
    "#df_train, df_test = preprocess_data(df_train, df_test)\n",
    "\n",
    "\n",
    "X = df_train.iloc[:, 0:-1]\n",
    "y = df_train.iloc[:, -1]\n",
    "\n"
   ]
  },
  {
   "cell_type": "code",
   "execution_count": 17,
   "id": "206b2a78",
   "metadata": {},
   "outputs": [
    {
     "data": {
      "text/plain": [
       "x1      float64\n",
       "x2      float64\n",
       "x3      float64\n",
       "x4      float64\n",
       "x5      float64\n",
       "x6      float64\n",
       "x7      float64\n",
       "x8      float64\n",
       "x9      float64\n",
       "x10     float64\n",
       "x11     float64\n",
       "x12     float64\n",
       "x13     float64\n",
       "x14     float64\n",
       "x15     float64\n",
       "x16     float64\n",
       "x17     float64\n",
       "x18     float64\n",
       "x19     float64\n",
       "x20     float64\n",
       "x21     float64\n",
       "x22     float64\n",
       "x23     float64\n",
       "x24     float64\n",
       "x25     float64\n",
       "x26     float64\n",
       "x27     float64\n",
       "x28     float64\n",
       "x29     float64\n",
       "x30     float64\n",
       "x31     float64\n",
       "x32     float64\n",
       "x33     float64\n",
       "x34     float64\n",
       "x35     float64\n",
       "x36     float64\n",
       "x37     float64\n",
       "x38     float64\n",
       "x39     float64\n",
       "x40     float64\n",
       "c1     category\n",
       "c2     category\n",
       "c3     category\n",
       "c4     category\n",
       "c5     category\n",
       "c6     category\n",
       "c7     category\n",
       "c8     category\n",
       "c9     category\n",
       "c10    category\n",
       "c11    category\n",
       "c12    category\n",
       "o1     category\n",
       "o2     category\n",
       "y      category\n",
       "dtype: object"
      ]
     },
     "execution_count": 17,
     "metadata": {},
     "output_type": "execute_result"
    }
   ],
   "source": [
    "df_train.dtypes"
   ]
  },
  {
   "cell_type": "code",
   "execution_count": null,
   "id": "bd5877ea",
   "metadata": {},
   "outputs": [],
   "source": []
  }
 ],
 "metadata": {
  "kernelspec": {
   "display_name": "Python [conda env:TFgpu]",
   "language": "python",
   "name": "conda-env-TFgpu-py"
  },
  "language_info": {
   "codemirror_mode": {
    "name": "ipython",
    "version": 3
   },
   "file_extension": ".py",
   "mimetype": "text/x-python",
   "name": "python",
   "nbconvert_exporter": "python",
   "pygments_lexer": "ipython3",
   "version": "3.9.7"
  }
 },
 "nbformat": 4,
 "nbformat_minor": 5
}
